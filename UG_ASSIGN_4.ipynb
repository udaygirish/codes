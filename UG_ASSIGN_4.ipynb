{
 "cells": [
  {
   "cell_type": "code",
   "execution_count": 0,
   "metadata": {
    "colab": {},
    "colab_type": "code",
    "id": "PwHfjU1teRAq"
   },
   "outputs": [],
   "source": [
    "import numpy as np\n",
    "import matplotlib.pyplot as plt\n",
    "import seaborn as sns\n",
    "from sklearn import *\n",
    "from sklearn.preprocessing import *\n",
    "from sklearn.metrics import *\n",
    "from sklearn.datasets import *\n",
    "import pandas as pd\n",
    "import cv2 #To test on custom images # To import images you can use Image.tk too "
   ]
  },
  {
   "cell_type": "markdown",
   "metadata": {
    "colab_type": "text",
    "id": "5PFACsc9exVW"
   },
   "source": [
    "# Downloading the Dataset \n",
    "## Normalising & Pre-Procesing\n",
    "### Declaration of Sigmoid, Loss , Forward Prop, Backward Prop Func\n"
   ]
  },
  {
   "cell_type": "code",
   "execution_count": 0,
   "metadata": {
    "colab": {
     "base_uri": "https://localhost:8080/",
     "height": 34
    },
    "colab_type": "code",
    "id": "KXlvQckch7bB",
    "outputId": "9a51447c-6f55-46be-c053-52b5df7dfc7f"
   },
   "outputs": [
    {
     "name": "stdout",
     "output_type": "stream",
     "text": [
      "[0. 0. 0. ... 0. 0. 0.]\n"
     ]
    }
   ],
   "source": [
    "X, y = fetch_openml('mnist_784', version=1, return_X_y=True)\n",
    "print(X[:,10])"
   ]
  },
  {
   "cell_type": "code",
   "execution_count": 0,
   "metadata": {
    "colab": {},
    "colab_type": "code",
    "id": "zsHKRGUx99ml"
   },
   "outputs": [],
   "source": [
    "# Image Representation\n",
    "X_res = X[1].reshape(28,28)\n"
   ]
  },
  {
   "cell_type": "code",
   "execution_count": 0,
   "metadata": {
    "colab": {
     "base_uri": "https://localhost:8080/",
     "height": 269
    },
    "colab_type": "code",
    "id": "tKp9ZJqn9-Rm",
    "outputId": "d3738c7c-7727-474d-8d28-cab933871663"
   },
   "outputs": [
    {
     "data": {
      "image/png": "[encoded data removed]",
      "text/plain": [
       "<Figure size 432x288 with 1 Axes>"
      ]
     },
     "metadata": {
      "tags": []
     },
     "output_type": "display_data"
    }
   ],
   "source": [
    "plt.imshow(X_res)\n",
    "plt.show()"
   ]
  },
  {
   "cell_type": "code",
   "execution_count": 0,
   "metadata": {
    "colab": {
     "base_uri": "https://localhost:8080/",
     "height": 34
    },
    "colab_type": "code",
    "id": "rAq-rpEyi9YI",
    "outputId": "3c52fecd-be6a-4ffa-81c1-87222d890e51"
   },
   "outputs": [
    {
     "name": "stdout",
     "output_type": "stream",
     "text": [
      "['5' '0' '4' ... '4' '5' '6']\n"
     ]
    }
   ],
   "source": [
    "X = X/255\n",
    "print(y)\n"
   ]
  },
  {
   "cell_type": "code",
   "execution_count": 0,
   "metadata": {
    "colab": {
     "base_uri": "https://localhost:8080/",
     "height": 34
    },
    "colab_type": "code",
    "id": "qs9O0x2Mlst_",
    "outputId": "8497dda4-55b2-4c4a-8071-4cb760a301d0"
   },
   "outputs": [
    {
     "name": "stdout",
     "output_type": "stream",
     "text": [
      "70000\n"
     ]
    }
   ],
   "source": [
    "# one-hot encode labels\n",
    "digits = 10\n",
    "print(y.shape[0])                #No. of dataset entries\n",
    "examples = y.shape[0]           \n",
    "y = y.reshape(1, examples)\n",
    "Y_new = np.eye(digits)[y.astype('int32')]\n",
    "Y_new = Y_new.T.reshape(digits, examples)\n",
    "\n"
   ]
  },
  {
   "cell_type": "code",
   "execution_count": 0,
   "metadata": {
    "colab": {
     "base_uri": "https://localhost:8080/",
     "height": 34
    },
    "colab_type": "code",
    "id": "VIBG-kYylt32",
    "outputId": "6e928594-3c0d-47d3-d675-f47f800ce886"
   },
   "outputs": [
    {
     "name": "stdout",
     "output_type": "stream",
     "text": [
      "(784, 60000)\n"
     ]
    }
   ],
   "source": [
    "# split, reshape, shuffle\n",
    "m = 60000\n",
    "m_test = X.shape[0] - m\n",
    "X_train, X_test = X[:m].T, X[m:].T\n",
    "Y_train, Y_test = Y_new[:,:m], Y_new[:,m:]\n",
    "shuffle_index = np.random.permutation(m)\n",
    "X_train, Y_train = X_train[:, shuffle_index], Y_train[:, shuffle_index]\n",
    "print(X_train.shape)"
   ]
  },
  {
   "cell_type": "code",
   "execution_count": 0,
   "metadata": {
    "colab": {},
    "colab_type": "code",
    "id": "vjlYYfoilvuI"
   },
   "outputs": [],
   "source": [
    "# Sigmoid Function\n",
    "def sigmoid(z):\n",
    "    s = 1. / (1. + np.exp(-z))\n",
    "    return s"
   ]
  },
  {
   "cell_type": "code",
   "execution_count": 0,
   "metadata": {
    "colab": {},
    "colab_type": "code",
    "id": "t5jT98HpLIkM"
   },
   "outputs": [],
   "source": [
    "def softmax(z):\n",
    "    s = e ^ z / sum(e ^ z)\n",
    "    return s"
   ]
  },
  {
   "cell_type": "code",
   "execution_count": 0,
   "metadata": {
    "colab": {},
    "colab_type": "code",
    "id": "b9zmUNtYnXkK"
   },
   "outputs": [],
   "source": [
    "# Compute Loss\n",
    "def compute_loss(Y, Y_hat):\n",
    "    L_sum = np.sum(np.multiply(Y, np.log(Y_hat)))\n",
    "    m = Y.shape[1]\n",
    "    L = -(1./m) * L_sum\n",
    "    return L"
   ]
  },
  {
   "cell_type": "code",
   "execution_count": 0,
   "metadata": {
    "colab": {},
    "colab_type": "code",
    "id": "Gw0symkYnb7k"
   },
   "outputs": [],
   "source": [
    "# Feed forward Propagation\n",
    "def feed_forward(X, params):\n",
    "\n",
    "    cache = {}\n",
    "\n",
    "    cache[\"Z1\"] = np.matmul(params[\"W1\"], X) + params[\"b1\"]\n",
    "    cache[\"A1\"] = sigmoid(cache[\"Z1\"])\n",
    "    cache[\"Z2\"] = np.matmul(params[\"W2\"], cache[\"A1\"]) + params[\"b2\"]\n",
    "    cache[\"A2\"] = np.exp(cache[\"Z2\"]) / np.sum(np.exp(cache[\"Z2\"]), axis=0)\n",
    "    cache[\"Z3\"] = np.matmul(params[\"W3\"], cache[\"A2\"]) + params[\"b3\"]\n",
    "    cache[\"A3\"] = np.exp(cache[\"Z3\"]) / np.sum(np.exp(cache[\"Z3\"]), axis=0)\n",
    "    \n",
    "\n",
    "    return cache"
   ]
  },
  {
   "cell_type": "code",
   "execution_count": 0,
   "metadata": {
    "colab": {},
    "colab_type": "code",
    "id": "YHa1MNhqnmcW"
   },
   "outputs": [],
   "source": [
    "# Back Propagation\n",
    "def back_propagate(X, Y, params, cache):\n",
    "\n",
    "    dZ3 = cache[\"A3\"] - Y\n",
    "    dW3 = (1./m_batch) * np.matmul(dZ3, cache[\"A2\"].T)\n",
    "    db3 = (1./m_batch) * np.sum(dZ3, axis=1, keepdims=True)\n",
    "    \n",
    "    \n",
    "    dA2 = np.matmul(params[\"W3\"].T, dZ3)\n",
    "    dZ2 = dA2 * sigmoid(cache[\"Z2\"]) * (1 - sigmoid(cache[\"Z2\"]))\n",
    "    dW2 = (1./m_batch) * np.matmul(dZ2, cache[\"A1\"].T)\n",
    "    db2 = (1./m_batch) * np.sum(dZ2, axis=1, keepdims=True)\n",
    "\n",
    "    \n",
    "    dA1 = np.matmul(params[\"W2\"].T, dZ2)\n",
    "    dZ1 = dA1 * sigmoid(cache[\"Z1\"]) * (1 - sigmoid(cache[\"Z1\"]))\n",
    "    dW1 = (1./m_batch) * np.matmul(dZ1, X.T)\n",
    "    db1 = (1./m_batch) * np.sum(dZ1, axis=1, keepdims=True)\n",
    "\n",
    "    grads = {\"dW1\": dW1, \"db1\": db1, \"dW2\": dW2, \"db2\": db2,\"dW3\": dW3, \"db3\": db3}\n",
    "\n",
    "    return grads\n",
    "  "
   ]
  },
  {
   "cell_type": "markdown",
   "metadata": {
    "colab_type": "text",
    "id": "fIhSue0Yzc4w"
   },
   "source": [
    "# Training"
   ]
  },
  {
   "cell_type": "code",
   "execution_count": 0,
   "metadata": {
    "colab": {},
    "colab_type": "code",
    "id": "bqFRjtPcnsLN"
   },
   "outputs": [],
   "source": [
    "### Initialisation of Parameter and other hyperparameter declaration #####\n",
    "np.random.seed(138)\n",
    "\n",
    "# hyperparameters\n",
    "n_x = X_train.shape[0]\n",
    "n_h1 = 64\n",
    "n_h2 = 32\n",
    "learning_rate = 0.08\n",
    "beta = .9\n",
    "batch_size = 128\n",
    "batches = -(-m // batch_size)\n",
    "\n",
    "# initialization\n",
    "params = { \"W1\": np.random.randn(n_h1, n_x) * np.sqrt(1. / n_x),\n",
    "           \"b1\": np.zeros((n_h1, 1)) * np.sqrt(1. / n_x),\n",
    "           \"W2\": np.random.randn(n_h2, n_h1) * np.sqrt(1. / n_h1),\n",
    "           \"b2\": np.zeros((n_h2, 1)) * np.sqrt(1. / n_h1),\n",
    "           \"W3\": np.random.randn(digits, n_h2) * np.sqrt(1. / n_h2),\n",
    "           \"b3\": np.zeros((digits, 1)) * np.sqrt(1. / n_h2) }\n",
    "\n",
    "V_dW1 = np.zeros(params[\"W1\"].shape)\n",
    "V_db1 = np.zeros(params[\"b1\"].shape)\n",
    "V_dW2 = np.zeros(params[\"W2\"].shape)\n",
    "V_db2 = np.zeros(params[\"b2\"].shape)\n",
    "V_dW3 = np.zeros(params[\"W3\"].shape)\n",
    "V_db3 = np.zeros(params[\"b3\"].shape)\n",
    "\n",
    "\n",
    "\n"
   ]
  },
  {
   "cell_type": "code",
   "execution_count": 0,
   "metadata": {
    "colab": {
     "base_uri": "https://localhost:8080/",
     "height": 2584
    },
    "colab_type": "code",
    "id": "v2eGOFdPRDHR",
    "outputId": "7603267a-e08d-4295-c47b-4b5760fad3ff"
   },
   "outputs": [
    {
     "name": "stdout",
     "output_type": "stream",
     "text": [
      "E 1: Training cost = 2.26977115583027, Test cost = 2.26880485137033\n",
      "E 2: Training cost = 2.1452407909609197, Test cost = 2.141133101068511\n",
      "E 3: Training cost = 1.9788950116027493, Test cost = 1.9724470942251817\n",
      "E 4: Training cost = 1.8084613438130683, Test cost = 1.8013085982386956\n",
      "E 5: Training cost = 1.6456338742978507, Test cost = 1.6411806967548537\n",
      "E 6: Training cost = 1.496076742942292, Test cost = 1.4941974577921204\n",
      "E 7: Training cost = 1.348713726193463, Test cost = 1.347649850407181\n",
      "E 8: Training cost = 1.213360603685921, Test cost = 1.211834235577573\n",
      "E 9: Training cost = 1.1172340884701328, Test cost = 1.1141832364643869\n",
      "E 10: Training cost = 1.0609396604720729, Test cost = 1.0540312059024288\n",
      "E 11: Training cost = 1.000056593621028, Test cost = 0.9925320319934123\n",
      "E 12: Training cost = 0.9374500425002059, Test cost = 0.9309936341374334\n",
      "E 13: Training cost = 0.9003214120050205, Test cost = 0.8934737580521162\n",
      "E 14: Training cost = 0.8674798871024412, Test cost = 0.8603919526546905\n",
      "E 15: Training cost = 0.8420646804392669, Test cost = 0.835231779343754\n",
      "E 16: Training cost = 0.8200922334773333, Test cost = 0.8135493918079949\n",
      "E 17: Training cost = 0.8021113934659118, Test cost = 0.7964950400478809\n",
      "E 18: Training cost = 0.7932065618805387, Test cost = 0.7891687453857457\n",
      "E 19: Training cost = 0.7849090778311409, Test cost = 0.7807703113084409\n",
      "E 20: Training cost = 0.7818099961552248, Test cost = 0.7787100247774078\n",
      "E 21: Training cost = 0.7631049998011812, Test cost = 0.7599109868858633\n",
      "E 22: Training cost = 0.7549025020224658, Test cost = 0.7523905712637116\n",
      "E 23: Training cost = 0.7430247752764438, Test cost = 0.7424480187062579\n",
      "E 24: Training cost = 0.7325464432581008, Test cost = 0.7297552310237729\n",
      "E 25: Training cost = 0.7293453890420103, Test cost = 0.7269548188266471\n",
      "E 26: Training cost = 0.7174285529185777, Test cost = 0.7161078183650353\n",
      "E 27: Training cost = 0.7077977360828394, Test cost = 0.7069841159118527\n",
      "E 28: Training cost = 0.7020339135800553, Test cost = 0.7014804810751687\n",
      "E 29: Training cost = 0.6920661284492989, Test cost = 0.6905903248325119\n",
      "E 30: Training cost = 0.6818070301184794, Test cost = 0.6793802488420199\n",
      "E 31: Training cost = 0.6749093654369616, Test cost = 0.6734934077469255\n",
      "E 32: Training cost = 0.6669204233222987, Test cost = 0.6659167300656217\n",
      "E 33: Training cost = 0.6597675638307737, Test cost = 0.6562186201859797\n",
      "E 34: Training cost = 0.6510955765379958, Test cost = 0.6476430224944537\n",
      "E 35: Training cost = 0.6528871996394741, Test cost = 0.6490603686398054\n",
      "E 36: Training cost = 0.6411116915184313, Test cost = 0.6359618309401543\n",
      "E 37: Training cost = 0.638234489974643, Test cost = 0.6334420341872019\n",
      "E 38: Training cost = 0.628426295993326, Test cost = 0.6236492509971728\n",
      "E 39: Training cost = 0.6277666147800729, Test cost = 0.6222899281023239\n",
      "E 40: Training cost = 0.6144018964290103, Test cost = 0.6087963370343522\n",
      "E 41: Training cost = 0.6186887855294902, Test cost = 0.612516441094273\n",
      "E 42: Training cost = 0.6070689992416488, Test cost = 0.6004396731304157\n",
      "E 43: Training cost = 0.6026455878646744, Test cost = 0.5968558378836383\n",
      "E 44: Training cost = 0.6074561457840495, Test cost = 0.6023431776167185\n",
      "E 45: Training cost = 0.5952160338394167, Test cost = 0.5900992730888364\n",
      "E 46: Training cost = 0.5805518107386921, Test cost = 0.5760318273241983\n",
      "E 47: Training cost = 0.5750199047854189, Test cost = 0.5707822648780106\n",
      "E 48: Training cost = 0.5687496198222631, Test cost = 0.5632358360629235\n",
      "E 49: Training cost = 0.5579431119803057, Test cost = 0.5530852990893087\n",
      "E 50: Training cost = 0.5589864273969509, Test cost = 0.5542014112392583\n",
      "E 51: Training cost = 0.5498939616247732, Test cost = 0.5456862435468105\n",
      "E 52: Training cost = 0.5409219183829161, Test cost = 0.5352013885342333\n",
      "E 53: Training cost = 0.5371701794020058, Test cost = 0.5312705429736818\n",
      "E 54: Training cost = 0.5329115366904241, Test cost = 0.5284029547853425\n",
      "E 55: Training cost = 0.5270183449144806, Test cost = 0.5211470517463193\n",
      "E 56: Training cost = 0.5183697881738425, Test cost = 0.51343889221808\n",
      "E 57: Training cost = 0.5124603143126514, Test cost = 0.506217603092398\n",
      "E 58: Training cost = 0.5111998569211351, Test cost = 0.5056442663024996\n",
      "E 59: Training cost = 0.5001649030460156, Test cost = 0.4940621672536059\n",
      "E 60: Training cost = 0.49497836099887627, Test cost = 0.4895153094255825\n",
      "E 61: Training cost = 0.4888820644003066, Test cost = 0.4827821399016359\n",
      "E 62: Training cost = 0.48298613196727047, Test cost = 0.47705668947149066\n",
      "E 63: Training cost = 0.4794263915834811, Test cost = 0.4722353629447919\n",
      "E 64: Training cost = 0.47576396920498576, Test cost = 0.4695799446845944\n",
      "E 65: Training cost = 0.46671873895280497, Test cost = 0.46094317275042596\n",
      "E 66: Training cost = 0.4646845581494732, Test cost = 0.45899457645674474\n",
      "E 67: Training cost = 0.460884937725844, Test cost = 0.4540655570933222\n",
      "E 68: Training cost = 0.46163832567169333, Test cost = 0.45603875215866585\n",
      "E 69: Training cost = 0.4643897137866579, Test cost = 0.45867043480426284\n",
      "E 70: Training cost = 0.4502486142965501, Test cost = 0.44384038380228585\n",
      "E 71: Training cost = 0.44930720350698033, Test cost = 0.4439832474620469\n",
      "E 72: Training cost = 0.4432704050472225, Test cost = 0.43682845576678003\n",
      "E 73: Training cost = 0.44280452110391416, Test cost = 0.4376530483670911\n",
      "E 74: Training cost = 0.4407252128491301, Test cost = 0.43436161398325807\n",
      "E 75: Training cost = 0.4381360168695162, Test cost = 0.43182935227706276\n",
      "E 76: Training cost = 0.42957810246414174, Test cost = 0.42340767749585634\n",
      "E 77: Training cost = 0.4294649675753888, Test cost = 0.4255316100502494\n",
      "E 78: Training cost = 0.43267887947423145, Test cost = 0.42700087563666095\n",
      "E 79: Training cost = 0.4311835287424502, Test cost = 0.4257886933347512\n",
      "E 80: Training cost = 0.426137430593559, Test cost = 0.4223366072292599\n",
      "E 81: Training cost = 0.4299692097583262, Test cost = 0.4255356148164044\n",
      "E 82: Training cost = 0.4244944395959516, Test cost = 0.42015098995302264\n",
      "E 83: Training cost = 0.42257831647923155, Test cost = 0.4178334120376283\n",
      "E 84: Training cost = 0.42206928767993585, Test cost = 0.4176457436461462\n",
      "E 85: Training cost = 0.4191281944358771, Test cost = 0.4154541463184228\n",
      "E 86: Training cost = 0.4287840055740964, Test cost = 0.4256675909494744\n",
      "E 87: Training cost = 0.41790635958846384, Test cost = 0.4146814804370999\n",
      "E 88: Training cost = 0.425547156456487, Test cost = 0.4220548412327907\n",
      "E 89: Training cost = 0.4205004954884442, Test cost = 0.41737315545354314\n",
      "E 90: Training cost = 0.4201821874194649, Test cost = 0.41628226098906873\n",
      "E 91: Training cost = 0.4124593652435847, Test cost = 0.40860561708498877\n",
      "E 92: Training cost = 0.4096105923475256, Test cost = 0.40640404209076014\n",
      "E 93: Training cost = 0.41564541414495787, Test cost = 0.41398317841235577\n",
      "E 94: Training cost = 0.4202655237989926, Test cost = 0.4186757205946434\n",
      "E 95: Training cost = 0.4166302394538928, Test cost = 0.41495030910129294\n",
      "E 96: Training cost = 0.40761226176793813, Test cost = 0.4068184588585663\n",
      "E 97: Training cost = 0.41227014918401766, Test cost = 0.4098236491147691\n",
      "E 98: Training cost = 0.4003856821573546, Test cost = 0.4001666991966991\n",
      "E 99: Training cost = 0.40862384706972876, Test cost = 0.40789842748452054\n",
      "E 100: Training cost = 0.4088104999514338, Test cost = 0.40966721218717367\n",
      "E 101: Training cost = 0.4102461945950398, Test cost = 0.4082170495869654\n",
      "E 102: Training cost = 0.40495970692228317, Test cost = 0.4069657077117891\n",
      "E 103: Training cost = 0.4063260754819307, Test cost = 0.4083235627210793\n",
      "E 104: Training cost = 0.4000780248756612, Test cost = 0.4011033604900442\n",
      "E 105: Training cost = 0.4023056821676515, Test cost = 0.4033619256018141\n",
      "E 106: Training cost = 0.3977666332201565, Test cost = 0.40098421960532965\n",
      "E 107: Training cost = 0.3993411386776496, Test cost = 0.40360494879532194\n",
      "E 108: Training cost = 0.40271836770294606, Test cost = 0.4078098831362123\n",
      "E 109: Training cost = 0.3986257705862609, Test cost = 0.40248220277946567\n",
      "E 110: Training cost = 0.4006442089310286, Test cost = 0.4052022427932187\n",
      "E 111: Training cost = 0.39762794405400337, Test cost = 0.4016322090738943\n",
      "E 112: Training cost = 0.4061033153633453, Test cost = 0.4118815021983241\n",
      "E 113: Training cost = 0.3975952626427913, Test cost = 0.3992554429894106\n",
      "E 114: Training cost = 0.39100392693720315, Test cost = 0.39632165905202177\n",
      "E 115: Training cost = 0.39207313463286536, Test cost = 0.39735592100089184\n",
      "E 116: Training cost = 0.3864123759925327, Test cost = 0.39106917023408444\n",
      "E 117: Training cost = 0.405009707853655, Test cost = 0.40971501408281485\n",
      "E 118: Training cost = 0.3926011748322743, Test cost = 0.3999330164484476\n",
      "E 119: Training cost = 0.40034733501833325, Test cost = 0.4069505843588239\n",
      "E 120: Training cost = 0.3901307672522966, Test cost = 0.39584184409478235\n",
      "E 121: Training cost = 0.38630289171400545, Test cost = 0.394458905169076\n",
      "E 122: Training cost = 0.3854480406087247, Test cost = 0.3925018324212312\n",
      "E 123: Training cost = 0.3879065452579934, Test cost = 0.39681723899776367\n",
      "E 124: Training cost = 0.39653192329532944, Test cost = 0.4050146797170575\n",
      "E 125: Training cost = 0.3866413810631643, Test cost = 0.3951985596627589\n",
      "E 126: Training cost = 0.3982359609764343, Test cost = 0.40684940147103166\n",
      "E 127: Training cost = 0.38908128980386664, Test cost = 0.39893316166194454\n",
      "E 128: Training cost = 0.39304304751480784, Test cost = 0.40273052034916035\n",
      "E 129: Training cost = 0.39990546366373425, Test cost = 0.40963526650046544\n",
      "E 130: Training cost = 0.393565299294676, Test cost = 0.4035265454870426\n",
      "E 131: Training cost = 0.3987342430767503, Test cost = 0.41027837645550064\n",
      "E 132: Training cost = 0.3966574451992998, Test cost = 0.4072631600073976\n",
      "E 133: Training cost = 0.396203176895159, Test cost = 0.4061373618179153\n",
      "E 134: Training cost = 0.3923612546075803, Test cost = 0.4036990594156648\n",
      "E 135: Training cost = 0.3938399453014341, Test cost = 0.4065141150685239\n",
      "E 136: Training cost = 0.3907852492706465, Test cost = 0.40192821334956846\n",
      "E 137: Training cost = 0.4039657905767947, Test cost = 0.4166389110587203\n",
      "E 138: Training cost = 0.397461485739174, Test cost = 0.41081614087034896\n",
      "E 139: Training cost = 0.4056238209146284, Test cost = 0.4173606661075049\n",
      "E 140: Training cost = 0.39376639208791625, Test cost = 0.4048082753694892\n",
      "E 141: Training cost = 0.40153190068095124, Test cost = 0.4154378890600564\n",
      "E 142: Training cost = 0.39632990844465227, Test cost = 0.40887997646505386\n",
      "E 143: Training cost = 0.39675269466124224, Test cost = 0.4098146095137322\n",
      "E 144: Training cost = 0.39800325555304056, Test cost = 0.41003748136571494\n",
      "E 145: Training cost = 0.4037126682064477, Test cost = 0.41544246253987316\n",
      "E 146: Training cost = 0.3927241921118802, Test cost = 0.40531502018860416\n",
      "E 147: Training cost = 0.412585706466679, Test cost = 0.4265884505346432\n",
      "E 148: Training cost = 0.39687562411910793, Test cost = 0.4085986139840907\n",
      "E 149: Training cost = 0.3997382739297689, Test cost = 0.416620246173481\n",
      "E 150: Training cost = 0.3995542617848686, Test cost = 0.41443712075505956\n",
      "Done.\n"
     ]
    }
   ],
   "source": [
    "# train\n",
    "train = []\n",
    "test = []\n",
    "for i in range(150):\n",
    "\n",
    "    permutation = np.random.permutation(X_train.shape[1])\n",
    "    X_train_shuffled = X_train[:, permutation]\n",
    "    Y_train_shuffled = Y_train[:, permutation]\n",
    "\n",
    "    for j in range(batches):\n",
    "\n",
    "        begin = j * batch_size\n",
    "        end = min(begin + batch_size, X_train.shape[1] - 1)\n",
    "        X = X_train_shuffled[:, begin:end]\n",
    "        Y = Y_train_shuffled[:, begin:end]\n",
    "        m_batch = end - begin\n",
    "\n",
    "        cache = feed_forward(X, params)\n",
    "        grads = back_propagate(X, Y, params, cache)\n",
    "\n",
    "        V_dW1 = (beta * V_dW1 + (1. - beta) * grads[\"dW1\"])\n",
    "        V_db1 = (beta * V_db1 + (1. - beta) * grads[\"db1\"])\n",
    "        V_dW2 = (beta * V_dW2 + (1. - beta) * grads[\"dW2\"])\n",
    "        V_db2 = (beta * V_db2 + (1. - beta) * grads[\"db2\"])\n",
    "        V_dW3 = (beta * V_dW3 + (1. - beta) * grads[\"dW3\"])\n",
    "        V_db3 = (beta * V_db3 + (1. - beta) * grads[\"db3\"])\n",
    "\n",
    "        params[\"W1\"] = params[\"W1\"] - learning_rate * V_dW1\n",
    "        params[\"b1\"] = params[\"b1\"] - learning_rate * V_db1\n",
    "        params[\"W2\"] = params[\"W2\"] - learning_rate * V_dW2\n",
    "        params[\"b2\"] = params[\"b2\"] - learning_rate * V_db2\n",
    "        params[\"W3\"] = params[\"W3\"] - learning_rate * V_dW3\n",
    "        params[\"b3\"] = params[\"b3\"] - learning_rate * V_db3\n",
    "\n",
    "    cache = feed_forward(X_train, params)\n",
    "    train_cost = compute_loss(Y_train, cache[\"A3\"])\n",
    "    cache = feed_forward(X_test, params)\n",
    "    test_cost = compute_loss(Y_test, cache[\"A3\"])\n",
    "    train.append(train_cost)\n",
    "    test.append(test_cost)\n",
    "    print(\"E {}: Training cost = {}, Test cost = {}\".format(i+1 ,train_cost, test_cost))\n",
    "\n",
    "print(\"Done.\")"
   ]
  },
  {
   "cell_type": "markdown",
   "metadata": {
    "colab_type": "text",
    "id": "OBD0GHEtoT4J"
   },
   "source": [
    "# Results\n",
    "## Visualisation\n"
   ]
  },
  {
   "cell_type": "code",
   "execution_count": 0,
   "metadata": {
    "colab": {
     "base_uri": "https://localhost:8080/",
     "height": 306
    },
    "colab_type": "code",
    "id": "x6sudtdLnwRL",
    "outputId": "074e02bf-340a-4273-e33c-de6c6e85f9d9"
   },
   "outputs": [
    {
     "name": "stdout",
     "output_type": "stream",
     "text": [
      "              precision    recall  f1-score   support\n",
      "\n",
      "           0       0.98      0.87      0.92      1111\n",
      "           1       0.97      0.97      0.97      1139\n",
      "           2       0.87      0.91      0.89       987\n",
      "           3       0.73      0.97      0.83       755\n",
      "           4       0.93      0.83      0.88      1091\n",
      "           5       0.85      0.69      0.76      1099\n",
      "           6       0.91      0.91      0.91       954\n",
      "           7       0.88      0.91      0.89       997\n",
      "           8       0.88      0.88      0.88       973\n",
      "           9       0.81      0.92      0.86       894\n",
      "\n",
      "    accuracy                           0.88     10000\n",
      "   macro avg       0.88      0.88      0.88     10000\n",
      "weighted avg       0.89      0.88      0.88     10000\n",
      "\n"
     ]
    }
   ],
   "source": [
    "# Results\n",
    "cache = feed_forward(X_test, params)\n",
    "predictions = np.argmax(cache[\"A3\"], axis=0)\n",
    "labels = np.argmax(Y_test, axis=0)\n",
    "print(classification_report(predictions, labels))"
   ]
  },
  {
   "cell_type": "code",
   "execution_count": 0,
   "metadata": {
    "colab": {
     "base_uri": "https://localhost:8080/",
     "height": 283
    },
    "colab_type": "code",
    "id": "vN-BJuBtoWqb",
    "outputId": "8b5df681-50d0-4f2c-cb7c-6884f4217fa2"
   },
   "outputs": [
    {
     "data": {
      "image/png": "[encoded data removed]",
      "text/plain": [
       "<Figure size 432x288 with 1 Axes>"
      ]
     },
     "metadata": {
      "tags": []
     },
     "output_type": "display_data"
    }
   ],
   "source": [
    "# Plotting Train cost\n",
    "plt.plot(train)\n",
    "plt.ylabel(\"Train_Loss\")\n",
    "plt.xlabel(\"Iterations\")\n",
    "plt.show()"
   ]
  },
  {
   "cell_type": "code",
   "execution_count": 0,
   "metadata": {
    "colab": {
     "base_uri": "https://localhost:8080/",
     "height": 283
    },
    "colab_type": "code",
    "id": "C2XJP9Gn6JSd",
    "outputId": "1776ea19-2ad5-40d1-d9e1-b90bb7c8de0e"
   },
   "outputs": [
    {
     "data": {
      "image/png": "[encoded data removed]",
      "text/plain": [
       "<Figure size 432x288 with 1 Axes>"
      ]
     },
     "metadata": {
      "tags": []
     },
     "output_type": "display_data"
    }
   ],
   "source": [
    "# Plotting Test Cost\n",
    "plt.plot(test)\n",
    "plt.ylabel(\"Train_Loss\")\n",
    "plt.xlabel(\"Iterations\")\n",
    "plt.show()"
   ]
  },
  {
   "cell_type": "code",
   "execution_count": 0,
   "metadata": {
    "colab": {},
    "colab_type": "code",
    "id": "E5Dp4Uw36RVY"
   },
   "outputs": [],
   "source": []
  },
  {
   "cell_type": "code",
   "execution_count": 0,
   "metadata": {
    "colab": {},
    "colab_type": "code",
    "id": "38T_M2PL6Yfs"
   },
   "outputs": [],
   "source": []
  }
 ],
 "metadata": {
  "colab": {
   "collapsed_sections": [],
   "name": "MNIST_Assign.ipynb",
   "provenance": [],
   "version": "0.3.2"
  },
  "kernelspec": {
   "display_name": "Python 3",
   "language": "python",
   "name": "python3"
  },
  "language_info": {
   "codemirror_mode": {
    "name": "ipython",
    "version": 3
   },
   "file_extension": ".py",
   "mimetype": "text/x-python",
   "name": "python",
   "nbconvert_exporter": "python",
   "pygments_lexer": "ipython3",
   "version": "3.6.8"
  }
 },
 "nbformat": 4,
 "nbformat_minor": 1
}
