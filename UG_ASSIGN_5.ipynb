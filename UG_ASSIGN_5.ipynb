{
 "cells": [
  {
   "cell_type": "markdown",
   "metadata": {
    "colab_type": "text",
    "id": "bhZts28k-Mfz"
   },
   "source": [
    "# Convolutional Model with Batch Normalization\n",
    "\n"
   ]
  },
  {
   "cell_type": "code",
   "execution_count": 0,
   "metadata": {
    "colab": {
     "base_uri": "https://localhost:8080/",
     "height": 34
    },
    "colab_type": "code",
    "id": "-bMSmAb2-YLz",
    "outputId": "6e0ce248-87bd-4782-e263-58b83126148c"
   },
   "outputs": [
    {
     "name": "stderr",
     "output_type": "stream",
     "text": [
      "Using TensorFlow backend.\n"
     ]
    }
   ],
   "source": [
    "import numpy as np\n",
    "import matplotlib.pyplot as plt\n",
    "import tensorflow as tf\n",
    "from keras.models import Sequential\n",
    "from keras.layers.normalization import BatchNormalization\n",
    "from keras.layers.convolutional import Conv2D\n",
    "from keras.layers.convolutional import MaxPooling2D\n",
    "from keras.layers.core import Activation\n",
    "from keras.layers.core import Flatten\n",
    "from keras.layers.core import Dropout\n",
    "from keras.layers.core import Dense\n",
    "from keras import backend as K\n",
    "from sklearn.metrics import classification_report\n",
    "from keras.optimizers import SGD\n",
    "from keras.datasets import fashion_mnist\n",
    "from keras.utils import np_utils\n",
    "from keras import backend as K\n",
    "from imutils import build_montages\n",
    "import matplotlib.pyplot as plt\n",
    "import cv2\n"
   ]
  },
  {
   "cell_type": "code",
   "execution_count": 0,
   "metadata": {
    "colab": {
     "base_uri": "https://localhost:8080/",
     "height": 1244
    },
    "colab_type": "code",
    "id": "V2YzCIE--pQe",
    "outputId": "398b2cad-f84d-4007-e342-84b7a9369dc4"
   },
   "outputs": [
    {
     "name": "stderr",
     "output_type": "stream",
     "text": [
      "WARNING: Logging before flag parsing goes to stderr.\n",
      "W0619 06:41:22.278541 139707850680192 deprecation_wrapper.py:119] From /usr/local/lib/python3.6/dist-packages/keras/backend/tensorflow_backend.py:74: The name tf.get_default_graph is deprecated. Please use tf.compat.v1.get_default_graph instead.\n",
      "\n",
      "W0619 06:41:22.326915 139707850680192 deprecation_wrapper.py:119] From /usr/local/lib/python3.6/dist-packages/keras/backend/tensorflow_backend.py:517: The name tf.placeholder is deprecated. Please use tf.compat.v1.placeholder instead.\n",
      "\n",
      "W0619 06:41:22.335511 139707850680192 deprecation_wrapper.py:119] From /usr/local/lib/python3.6/dist-packages/keras/backend/tensorflow_backend.py:4138: The name tf.random_uniform is deprecated. Please use tf.random.uniform instead.\n",
      "\n",
      "W0619 06:41:22.374803 139707850680192 deprecation_wrapper.py:119] From /usr/local/lib/python3.6/dist-packages/keras/backend/tensorflow_backend.py:174: The name tf.get_default_session is deprecated. Please use tf.compat.v1.get_default_session instead.\n",
      "\n",
      "W0619 06:41:22.375838 139707850680192 deprecation_wrapper.py:119] From /usr/local/lib/python3.6/dist-packages/keras/backend/tensorflow_backend.py:181: The name tf.ConfigProto is deprecated. Please use tf.compat.v1.ConfigProto instead.\n",
      "\n",
      "W0619 06:41:25.125357 139707850680192 deprecation_wrapper.py:119] From /usr/local/lib/python3.6/dist-packages/keras/backend/tensorflow_backend.py:1834: The name tf.nn.fused_batch_norm is deprecated. Please use tf.compat.v1.nn.fused_batch_norm instead.\n",
      "\n",
      "W0619 06:41:25.378306 139707850680192 deprecation_wrapper.py:119] From /usr/local/lib/python3.6/dist-packages/keras/backend/tensorflow_backend.py:3976: The name tf.nn.max_pool is deprecated. Please use tf.nn.max_pool2d instead.\n",
      "\n",
      "W0619 06:41:25.387835 139707850680192 deprecation.py:506] From /usr/local/lib/python3.6/dist-packages/keras/backend/tensorflow_backend.py:3445: calling dropout (from tensorflow.python.ops.nn_ops) with keep_prob is deprecated and will be removed in a future version.\n",
      "Instructions for updating:\n",
      "Please use `rate` instead of `keep_prob`. Rate should be set to `rate = 1 - keep_prob`.\n"
     ]
    },
    {
     "name": "stdout",
     "output_type": "stream",
     "text": [
      "_________________________________________________________________\n",
      "Layer (type)                 Output Shape              Param #   \n",
      "=================================================================\n",
      "conv2d_1 (Conv2D)            (None, 28, 28, 32)        320       \n",
      "_________________________________________________________________\n",
      "activation_1 (Activation)    (None, 28, 28, 32)        0         \n",
      "_________________________________________________________________\n",
      "batch_normalization_1 (Batch (None, 28, 28, 32)        128       \n",
      "_________________________________________________________________\n",
      "conv2d_2 (Conv2D)            (None, 28, 28, 32)        9248      \n",
      "_________________________________________________________________\n",
      "activation_2 (Activation)    (None, 28, 28, 32)        0         \n",
      "_________________________________________________________________\n",
      "batch_normalization_2 (Batch (None, 28, 28, 32)        128       \n",
      "_________________________________________________________________\n",
      "max_pooling2d_1 (MaxPooling2 (None, 14, 14, 32)        0         \n",
      "_________________________________________________________________\n",
      "dropout_1 (Dropout)          (None, 14, 14, 32)        0         \n",
      "_________________________________________________________________\n",
      "conv2d_3 (Conv2D)            (None, 14, 14, 64)        18496     \n",
      "_________________________________________________________________\n",
      "activation_3 (Activation)    (None, 14, 14, 64)        0         \n",
      "_________________________________________________________________\n",
      "batch_normalization_3 (Batch (None, 14, 14, 64)        256       \n",
      "_________________________________________________________________\n",
      "conv2d_4 (Conv2D)            (None, 14, 14, 64)        36928     \n",
      "_________________________________________________________________\n",
      "activation_4 (Activation)    (None, 14, 14, 64)        0         \n",
      "_________________________________________________________________\n",
      "batch_normalization_4 (Batch (None, 14, 14, 64)        256       \n",
      "_________________________________________________________________\n",
      "max_pooling2d_2 (MaxPooling2 (None, 7, 7, 64)          0         \n",
      "_________________________________________________________________\n",
      "dropout_2 (Dropout)          (None, 7, 7, 64)          0         \n",
      "_________________________________________________________________\n",
      "flatten_1 (Flatten)          (None, 3136)              0         \n",
      "_________________________________________________________________\n",
      "dense_1 (Dense)              (None, 512)               1606144   \n",
      "_________________________________________________________________\n",
      "activation_5 (Activation)    (None, 512)               0         \n",
      "_________________________________________________________________\n",
      "batch_normalization_5 (Batch (None, 512)               2048      \n",
      "_________________________________________________________________\n",
      "dropout_3 (Dropout)          (None, 512)               0         \n",
      "_________________________________________________________________\n",
      "dense_2 (Dense)              (None, 10)                5130      \n",
      "_________________________________________________________________\n",
      "activation_6 (Activation)    (None, 10)                0         \n",
      "=================================================================\n",
      "Total params: 1,679,082\n",
      "Trainable params: 1,677,674\n",
      "Non-trainable params: 1,408\n",
      "_________________________________________________________________\n"
     ]
    }
   ],
   "source": [
    "#width=28, height=28, depth=1, classes=10\n",
    "model = Sequential()\n",
    "inputShape = (28, 28, 1)\n",
    "chanDim = -1\n",
    "# first CONV => RELU => CONV => RELU => POOL layer set\n",
    "model.add(Conv2D(32, (3, 3), padding=\"same\",\n",
    "  input_shape=inputShape))\n",
    "model.add(Activation(\"relu\"))\n",
    "model.add(BatchNormalization(axis=chanDim))\n",
    "model.add(Conv2D(32, (3, 3), padding=\"same\"))\n",
    "model.add(Activation(\"relu\"))\n",
    "model.add(BatchNormalization(axis=chanDim))\n",
    "model.add(MaxPooling2D(pool_size=(2, 2)))\n",
    "model.add(Dropout(0.25))\n",
    "\n",
    "# second CONV => RELU => CONV => RELU => POOL layer set\n",
    "model.add(Conv2D(64, (3, 3), padding=\"same\"))\n",
    "model.add(Activation(\"relu\"))\n",
    "model.add(BatchNormalization(axis=chanDim))\n",
    "model.add(Conv2D(64, (3, 3), padding=\"same\"))\n",
    "model.add(Activation(\"relu\"))\n",
    "model.add(BatchNormalization(axis=chanDim))\n",
    "model.add(MaxPooling2D(pool_size=(2, 2)))\n",
    "model.add(Dropout(0.25))\n",
    "\n",
    "# first (and only) set of FC => RELU layers\n",
    "model.add(Flatten())\n",
    "model.add(Dense(512))\n",
    "model.add(Activation(\"relu\"))\n",
    "model.add(BatchNormalization())\n",
    "model.add(Dropout(0.5))\n",
    "\n",
    "# softmax classifier\n",
    "model.add(Dense(10))\n",
    "model.add(Activation(\"softmax\"))\n",
    "\n",
    "model.summary()"
   ]
  },
  {
   "cell_type": "markdown",
   "metadata": {
    "colab_type": "text",
    "id": "JbgeAjRJCuWS"
   },
   "source": [
    "##Downloading Image Input and the remaining procesing"
   ]
  },
  {
   "cell_type": "code",
   "execution_count": 0,
   "metadata": {
    "colab": {
     "base_uri": "https://localhost:8080/",
     "height": 170
    },
    "colab_type": "code",
    "id": "0JgOE9I0KPox",
    "outputId": "021db0d2-64e9-41ee-c5ff-efa5a8574079"
   },
   "outputs": [
    {
     "name": "stdout",
     "output_type": "stream",
     "text": [
      "Downloading data from http://fashion-mnist.s3-website.eu-central-1.amazonaws.com/train-labels-idx1-ubyte.gz\n",
      "32768/29515 [=================================] - 0s 3us/step\n",
      "Downloading data from http://fashion-mnist.s3-website.eu-central-1.amazonaws.com/train-images-idx3-ubyte.gz\n",
      "26427392/26421880 [==============================] - 2s 0us/step\n",
      "Downloading data from http://fashion-mnist.s3-website.eu-central-1.amazonaws.com/t10k-labels-idx1-ubyte.gz\n",
      "8192/5148 [===============================================] - 0s 0us/step\n",
      "Downloading data from http://fashion-mnist.s3-website.eu-central-1.amazonaws.com/t10k-images-idx3-ubyte.gz\n",
      "4423680/4422102 [==============================] - 1s 0us/step\n",
      "(60000, 28, 28)\n"
     ]
    }
   ],
   "source": [
    "NUM_EPOCHS = 25      # Number of epochs\n",
    "INIT_LR = 1e-2      # Initial Learning rate\n",
    "BS = 32    # Batch size\n",
    "((X_train, y_train), (X_test, y_test)) = fashion_mnist.load_data()\n",
    "print(X_train.shape)\n"
   ]
  },
  {
   "cell_type": "markdown",
   "metadata": {
    "colab_type": "text",
    "id": "TCynjzlRKTFc"
   },
   "source": [
    "### Data Augmentation"
   ]
  },
  {
   "cell_type": "code",
   "execution_count": 0,
   "metadata": {
    "colab": {},
    "colab_type": "code",
    "id": "ZzRoAWChKQNC"
   },
   "outputs": [],
   "source": [
    "y_train = y_train.reshape((y_train.shape[0], 1))\n",
    "#print(train_labels.shape)\n",
    "rows = 28\n",
    "cols = 28\n",
    "\n",
    "def translation(train_images):\n",
    "    M = np.float32([[1,0,5],[0,1,10]])\n",
    "    dst = cv2.warpAffine(train_images,M,(cols,rows))\n",
    "    dst = dst.reshape((1, dst.shape[0], dst.shape[1]))\n",
    "    #print(dst.shape)\n",
    "    return dst\n",
    "\n",
    "\n",
    "for i in range (500):\n",
    "    X_train = np.vstack((X_train, translation(X_train[i])))\n",
    "    y_train = np.append(y_train, y_train[i])\n",
    "\n",
    "y_train = y_train.reshape((y_train.shape[0], 1))   \n",
    "\n",
    "def rotation(train_images, angle):\n",
    "    M = cv2.getRotationMatrix2D((cols/2,rows/2),-75,1)\n",
    "    rot = cv2.warpAffine(train_images[i],M,(cols,rows))\n",
    "    return rot\n",
    "\n",
    "for i in range (500):\n",
    "    X_train = np.vstack((X_train, translation(X_train[i])))\n",
    "    y_train = np.append(y_train, y_train[i])\n",
    "\n",
    "y_train = y_train.reshape((y_train.shape[0], 1)) \n",
    "def rotation(train_images, angle):\n",
    "    M = cv2.getRotationMatrix2D((cols/2,rows/2),180,1)\n",
    "    rot = cv2.warpAffine(train_images[i],M,(cols,rows))\n",
    "    return rot\n",
    "\n",
    "for i in range (500):\n",
    "    X_train = np.vstack((X_train, translation(X_train[i])))\n",
    "    y_train = np.append(y_train, y_train[i])\n",
    "\n",
    "y_train = y_train.reshape((y_train.shape[0], 1)) \n",
    "\n",
    "def rotation(train_images, angle):\n",
    "    M = cv2.getRotationMatrix2D((cols/2,rows/2),75,1)\n",
    "    rot = cv2.warpAffine(train_images[i],M,(cols,rows))\n",
    "    return rot\n",
    "\n",
    "for i in range (500):\n",
    "    X_train = np.vstack((X_train, translation(X_train[i])))\n",
    "    y_train = np.append(y_train, y_train[i])\n",
    "\n",
    "y_train = y_train.reshape((y_train.shape[0], 1)) \n",
    "\n",
    "\n",
    "\n",
    "\n"
   ]
  },
  {
   "cell_type": "code",
   "execution_count": 0,
   "metadata": {
    "colab": {},
    "colab_type": "code",
    "id": "MSrM5Qts_Bl9"
   },
   "outputs": [],
   "source": [
    "# if we are using \"channels first\" ordering, then reshape the design\n",
    "# matrix such that the matrix is:\n",
    "# \tnum_samples x depth x rows x columns\n",
    "if K.image_data_format() == \"channels_first\":\n",
    "\tX_train = X_train.reshape((X_train.shape[0], 1, 28, 28))\n",
    "\tX_test = X_test.reshape((X_test.shape[0], 1, 28, 28))\n",
    "else:\n",
    "\tX_train = X_train.reshape((X_train.shape[0], 28, 28, 1))\n",
    "\tX_test = X_test.reshape((X_test.shape[0], 28, 28, 1))\n",
    "  \n",
    "X_train = X_train.astype(\"float32\") / 255.0\n",
    "X_test = X_test.astype(\"float32\") / 255.0\n",
    "# one-hot encode the training and testing labels\n",
    "y_train = np_utils.to_categorical(y_train, 10)\n",
    "y_test = np_utils.to_categorical(y_test, 10)\n",
    "# initialize the label names\n",
    "labelNames = [\"top\", \"trouser\", \"pullover\", \"dress\", \"coat\",\n",
    "\t\"sandal\", \"shirt\", \"sneaker\", \"bag\", \"ankle boot\"]\n",
    "# initialize the optimizer and model\n",
    "opt = SGD(lr=INIT_LR, momentum=0.9, decay=INIT_LR / NUM_EPOCHS)"
   ]
  },
  {
   "cell_type": "code",
   "execution_count": 0,
   "metadata": {
    "colab": {
     "base_uri": "https://localhost:8080/",
     "height": 71
    },
    "colab_type": "code",
    "id": "7BIG5kbQDGjy",
    "outputId": "2b0e9c37-375b-48e7-9b26-058e0d93b714"
   },
   "outputs": [
    {
     "name": "stderr",
     "output_type": "stream",
     "text": [
      "W0619 06:41:59.805603 139707850680192 deprecation_wrapper.py:119] From /usr/local/lib/python3.6/dist-packages/keras/optimizers.py:790: The name tf.train.Optimizer is deprecated. Please use tf.compat.v1.train.Optimizer instead.\n",
      "\n"
     ]
    }
   ],
   "source": [
    "model.compile(loss=\"categorical_crossentropy\", optimizer=opt,\n",
    "\tmetrics=[\"accuracy\"])"
   ]
  },
  {
   "cell_type": "code",
   "execution_count": 0,
   "metadata": {
    "colab": {
     "base_uri": "https://localhost:8080/",
     "height": 955
    },
    "colab_type": "code",
    "id": "9dT-O0bYDXh-",
    "outputId": "bce15084-c0c0-4472-8c2f-da83be5fb337"
   },
   "outputs": [
    {
     "name": "stderr",
     "output_type": "stream",
     "text": [
      "W0619 06:41:59.922530 139707850680192 deprecation.py:323] From /usr/local/lib/python3.6/dist-packages/tensorflow/python/ops/math_grad.py:1250: add_dispatch_support.<locals>.wrapper (from tensorflow.python.ops.array_ops) is deprecated and will be removed in a future version.\n",
      "Instructions for updating:\n",
      "Use tf.where in 2.0, which has the same broadcast rule as np.where\n"
     ]
    },
    {
     "name": "stdout",
     "output_type": "stream",
     "text": [
      "Train on 62000 samples, validate on 10000 samples\n",
      "Epoch 1/25\n",
      "62000/62000 [==============================] - 22s 357us/step - loss: 0.5763 - acc: 0.8078 - val_loss: 0.3497 - val_acc: 0.8765\n",
      "Epoch 2/25\n",
      "62000/62000 [==============================] - 18s 283us/step - loss: 0.3562 - acc: 0.8731 - val_loss: 0.3465 - val_acc: 0.8676\n",
      "Epoch 3/25\n",
      "62000/62000 [==============================] - 18s 284us/step - loss: 0.3029 - acc: 0.8919 - val_loss: 0.2525 - val_acc: 0.9108\n",
      "Epoch 4/25\n",
      "62000/62000 [==============================] - 18s 290us/step - loss: 0.2779 - acc: 0.9006 - val_loss: 0.2422 - val_acc: 0.9117\n",
      "Epoch 5/25\n",
      "62000/62000 [==============================] - 17s 281us/step - loss: 0.2572 - acc: 0.9065 - val_loss: 0.2291 - val_acc: 0.9179\n",
      "Epoch 6/25\n",
      "62000/62000 [==============================] - 17s 281us/step - loss: 0.2459 - acc: 0.9108 - val_loss: 0.2338 - val_acc: 0.9146\n",
      "Epoch 7/25\n",
      "62000/62000 [==============================] - 17s 281us/step - loss: 0.2383 - acc: 0.9132 - val_loss: 0.2172 - val_acc: 0.9223\n",
      "Epoch 8/25\n",
      "62000/62000 [==============================] - 18s 286us/step - loss: 0.2304 - acc: 0.9158 - val_loss: 0.2109 - val_acc: 0.9241\n",
      "Epoch 9/25\n",
      "62000/62000 [==============================] - 17s 280us/step - loss: 0.2206 - acc: 0.9197 - val_loss: 0.2107 - val_acc: 0.9226\n",
      "Epoch 10/25\n",
      "62000/62000 [==============================] - 17s 280us/step - loss: 0.2159 - acc: 0.9224 - val_loss: 0.2050 - val_acc: 0.9268\n",
      "Epoch 11/25\n",
      "62000/62000 [==============================] - 17s 280us/step - loss: 0.2102 - acc: 0.9235 - val_loss: 0.2055 - val_acc: 0.9236\n",
      "Epoch 12/25\n",
      "62000/62000 [==============================] - 17s 280us/step - loss: 0.2049 - acc: 0.9244 - val_loss: 0.2066 - val_acc: 0.9247\n",
      "Epoch 13/25\n",
      "62000/62000 [==============================] - 18s 285us/step - loss: 0.2021 - acc: 0.9260 - val_loss: 0.2137 - val_acc: 0.9224\n",
      "Epoch 14/25\n",
      "62000/62000 [==============================] - 18s 284us/step - loss: 0.1993 - acc: 0.9276 - val_loss: 0.1979 - val_acc: 0.9281\n",
      "Epoch 15/25\n",
      "62000/62000 [==============================] - 18s 284us/step - loss: 0.1951 - acc: 0.9291 - val_loss: 0.1944 - val_acc: 0.9301\n",
      "Epoch 16/25\n",
      "62000/62000 [==============================] - 18s 291us/step - loss: 0.1912 - acc: 0.9297 - val_loss: 0.1933 - val_acc: 0.9297\n",
      "Epoch 17/25\n",
      "62000/62000 [==============================] - 18s 286us/step - loss: 0.1897 - acc: 0.9315 - val_loss: 0.1921 - val_acc: 0.9303\n",
      "Epoch 18/25\n",
      "62000/62000 [==============================] - 18s 284us/step - loss: 0.1866 - acc: 0.9318 - val_loss: 0.1946 - val_acc: 0.9279\n",
      "Epoch 19/25\n",
      "62000/62000 [==============================] - 17s 282us/step - loss: 0.1865 - acc: 0.9324 - val_loss: 0.1914 - val_acc: 0.9313\n",
      "Epoch 20/25\n",
      "62000/62000 [==============================] - 17s 281us/step - loss: 0.1821 - acc: 0.9335 - val_loss: 0.1895 - val_acc: 0.9311\n",
      "Epoch 21/25\n",
      "62000/62000 [==============================] - 17s 282us/step - loss: 0.1808 - acc: 0.9337 - val_loss: 0.1898 - val_acc: 0.9311\n",
      "Epoch 22/25\n",
      "62000/62000 [==============================] - 18s 288us/step - loss: 0.1775 - acc: 0.9355 - val_loss: 0.1878 - val_acc: 0.9319\n",
      "Epoch 23/25\n",
      "62000/62000 [==============================] - 17s 281us/step - loss: 0.1781 - acc: 0.9345 - val_loss: 0.1883 - val_acc: 0.9327\n",
      "Epoch 24/25\n",
      "62000/62000 [==============================] - 17s 280us/step - loss: 0.1748 - acc: 0.9364 - val_loss: 0.1850 - val_acc: 0.9316\n",
      "Epoch 25/25\n",
      "62000/62000 [==============================] - 18s 283us/step - loss: 0.1745 - acc: 0.9365 - val_loss: 0.1862 - val_acc: 0.9336\n"
     ]
    }
   ],
   "source": [
    "H = model.fit(X_train, y_train,\n",
    "\tvalidation_data=(X_test, y_test),\n",
    "\tbatch_size=BS, epochs=NUM_EPOCHS)"
   ]
  },
  {
   "cell_type": "code",
   "execution_count": 0,
   "metadata": {
    "colab": {
     "base_uri": "https://localhost:8080/",
     "height": 588
    },
    "colab_type": "code",
    "id": "zD9Kk5ekDfBO",
    "outputId": "649f8158-61da-4915-ded8-002591d10652"
   },
   "outputs": [
    {
     "name": "stdout",
     "output_type": "stream",
     "text": [
      "              precision    recall  f1-score   support\n",
      "\n",
      "         top       0.90      0.86      0.88      1000\n",
      "     trouser       1.00      0.98      0.99      1000\n",
      "    pullover       0.93      0.89      0.91      1000\n",
      "       dress       0.93      0.94      0.94      1000\n",
      "        coat       0.88      0.92      0.90      1000\n",
      "      sandal       0.99      0.98      0.99      1000\n",
      "       shirt       0.78      0.81      0.80      1000\n",
      "     sneaker       0.96      0.98      0.97      1000\n",
      "         bag       0.99      0.99      0.99      1000\n",
      "  ankle boot       0.98      0.97      0.98      1000\n",
      "\n",
      "    accuracy                           0.93     10000\n",
      "   macro avg       0.93      0.93      0.93     10000\n",
      "weighted avg       0.93      0.93      0.93     10000\n",
      "\n"
     ]
    },
    {
     "data": {
      "image/png": "[encoded data removed]",
      "text/plain": [
       "<Figure size 432x288 with 1 Axes>"
      ]
     },
     "metadata": {
      "tags": []
     },
     "output_type": "display_data"
    }
   ],
   "source": [
    "# make predictions on the test set\n",
    "preds = model.predict(X_test)\n",
    "\n",
    "# show a nicely formatted classification report\n",
    "print(classification_report(y_test.argmax(axis=1), preds.argmax(axis=1),\n",
    "\ttarget_names=labelNames))\n",
    "\n",
    "# plot the training loss and accuracy\n",
    "N = NUM_EPOCHS\n",
    "plt.style.use(\"ggplot\")\n",
    "plt.figure()\n",
    "plt.plot(np.arange(0, N), H.history[\"loss\"], label=\"train_loss\")\n",
    "plt.plot(np.arange(0, N), H.history[\"val_loss\"], label=\"val_loss\")\n",
    "plt.plot(np.arange(0, N), H.history[\"acc\"], label=\"train_acc\")\n",
    "plt.plot(np.arange(0, N), H.history[\"val_acc\"]\n",
    "         , label=\"val_acc\")\n",
    "plt.title(\"Training Loss and Accuracy on Dataset\")\n",
    "plt.xlabel(\"Epoch #\")\n",
    "plt.ylabel(\"Loss/Accuracy\")\n",
    "plt.legend(loc=\"lower left\")\n",
    "plt.savefig(\"plot.png\")\n"
   ]
  },
  {
   "cell_type": "code",
   "execution_count": 0,
   "metadata": {
    "colab": {},
    "colab_type": "code",
    "id": "lbOCvbZXqcBc"
   },
   "outputs": [],
   "source": []
  },
  {
   "cell_type": "markdown",
   "metadata": {
    "colab_type": "text",
    "id": "u1kqS5My22jg"
   },
   "source": [
    "##Note the Following results for number of epochs == 25\n",
    "# Some of the inferences:\n",
    "\n",
    "Without Augmentation :  Train_Acc : 93.8 Test_Acc : 93.4\n",
    "\n",
    "\n",
    "With Data Augmentation: Train_Acc : 89.15 Test_Acc :82.60\n",
    "\n",
    "\n",
    "Without Activation (relu ) : Train_Acc : 91.37 Test_Acc = 91.11\n",
    "\n"
   ]
  },
  {
   "cell_type": "markdown",
   "metadata": {
    "colab_type": "text",
    "id": "_AAcdjXk3phX"
   },
   "source": [
    "## SUMMARY\n",
    "\n",
    "It is clearly depicted that introducing augmentation only to the training set introduce lot of variance and made the distribution of the train data a bit different than the test set . And note the accuracy dropped by 4% approx. \n",
    "And the model without activations are also tested and got a accuracy reduction of 2% approx. From this we can infere that introduction of further non linearity improves the model performance atleaast in this case.\n",
    "\n",
    "Dropouts in this model plays a important role in improving the accuracy.\n"
   ]
  }
 ],
 "metadata": {
  "accelerator": "GPU",
  "colab": {
   "collapsed_sections": [],
   "name": "Assign_5.ipynb",
   "provenance": [],
   "toc_visible": true,
   "version": "0.3.2"
  },
  "kernelspec": {
   "display_name": "Python 3",
   "language": "python",
   "name": "python3"
  },
  "language_info": {
   "codemirror_mode": {
    "name": "ipython",
    "version": 3
   },
   "file_extension": ".py",
   "mimetype": "text/x-python",
   "name": "python",
   "nbconvert_exporter": "python",
   "pygments_lexer": "ipython3",
   "version": "3.6.8"
  }
 },
 "nbformat": 4,
 "nbformat_minor": 1
}
